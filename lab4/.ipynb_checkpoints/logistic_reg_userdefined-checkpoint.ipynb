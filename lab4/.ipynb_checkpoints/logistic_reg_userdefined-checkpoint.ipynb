{
 "cells": [
  {
   "cell_type": "code",
   "execution_count": 4,
   "metadata": {},
   "outputs": [
    {
     "name": "stdout",
     "output_type": "stream",
     "text": [
      "(99, 2)\n",
      "Estimated regression coefficients: [ 9.67108338e-17  2.37613956e-01 -2.62009889e-01]\n",
      "No. of iterations: 10000\n",
      "No of correct predictions 99\n"
     ]
    },
    {
     "data": {
      "image/png": "[encoded data removed]",
      "text/plain": [
       "<Figure size 432x288 with 1 Axes>"
      ]
     },
     "metadata": {
      "needs_background": "light"
     },
     "output_type": "display_data"
    }
   ],
   "source": [
    "import numpy as np\n",
    "import pandas as pd\n",
    "import matplotlib.pyplot as plt\n",
    "from sklearn.preprocessing import MinMaxScaler\n",
    "from numpy import vstack\n",
    "data = pd.read_csv('training_data.csv')\n",
    "\n",
    "def hypothesis(theta, x):\n",
    "    if(sigmoid(np.dot(theta,x))<0.5):\n",
    "        return 0\n",
    "    else:\n",
    "        return 1\n",
    "\n",
    "def sigmoid(z):\n",
    "    temp = 1 + (np.exp(-z))\n",
    "    return 1/temp\n",
    "        \n",
    "def norm(x):\n",
    "    min_max_scaler=MinMaxScaler()\n",
    "    X_scaled=min_max_scaler.fit_transform(x)\n",
    "    return X_scaled\n",
    "\n",
    "def gradient(x,theta,y):\n",
    "    h = []\n",
    "    for i in x:\n",
    "        h.append(hypothesis(theta,i))\n",
    "    h = np.array(h)\n",
    "    error = np.dot(x.T, (h-y))/y.shape[0]\n",
    "    return np.array(error)\n",
    "def gradient_descent(X,y,theta):\n",
    "    alpha = 0.1\n",
    "    num_iter = 10000\n",
    "    for i in range(num_iter):\n",
    "        e = gradient(X,theta,y)\n",
    "        theta = theta - alpha * e\n",
    "    return theta, num_iter\n",
    "def predict(theta, X):\n",
    "    h = []\n",
    "    for i in X:\n",
    "        h.append(hypothesis(theta,i))\n",
    "    h = np.array(h)\n",
    "    return h\n",
    "def logistic_reg():\n",
    "    X = data.values[:,:2]\n",
    "    y = data.values[:,2]\n",
    "    X = norm(X)\n",
    "    print(X.shape)\n",
    "    temp = np.ones(len(X)).reshape(len(X),1)\n",
    "    X = vstack((temp.T,X.T)).T\n",
    "    theta = np.ones(X.shape[1])\n",
    "    theta, num_iter = gradient_descent(X,y,theta)\n",
    "    print(\"Estimated regression coefficients:\", theta) \n",
    "    print(\"No. of iterations:\", num_iter)\n",
    "    y_pred = predict(theta,X)\n",
    "    print(\"No of correct predictions\", np.sum(y==y_pred))\n",
    "    return theta,y_pred\n",
    "\n",
    "\n",
    "theta, y_pred = logistic_reg()\n",
    "x = np.linspace(0,10,45)\n",
    "x2 = []\n",
    "for i in x:\n",
    "    x2.append(-1*(theta[0]+theta[1]*i)/theta[2])\n",
    "plt.plot(x,x2)\n",
    "arr = data.values\n",
    "for i in arr:\n",
    "    if(i[2]==1):\n",
    "        plt.scatter(i[0],i[1], marker='o',c='red')\n",
    "    else:\n",
    "        plt.scatter(i[0],i[1],marker='x',c='green')\n",
    "plt.show()"
   ]
  },
  {
   "cell_type": "code",
   "execution_count": 6,
   "metadata": {},
   "outputs": [
    {
     "name": "stdout",
     "output_type": "stream",
     "text": [
      "Accuracy Score using user defined function 1.0\n"
     ]
    }
   ],
   "source": [
    "from sklearn.metrics import accuracy_score, classification_report, confusion_matrix\n",
    "y = data.values[:,2]\n",
    "print(\"Accuracy Score using user defined function\", accuracy_score(y,y_pred))"
   ]
  },
  {
   "cell_type": "code",
   "execution_count": null,
   "metadata": {},
   "outputs": [],
   "source": []
  }
 ],
 "metadata": {
  "kernelspec": {
   "display_name": "Python 3",
   "language": "python",
   "name": "python3"
  },
  "language_info": {
   "codemirror_mode": {
    "name": "ipython",
    "version": 3
   },
   "file_extension": ".py",
   "mimetype": "text/x-python",
   "name": "python",
   "nbconvert_exporter": "python",
   "pygments_lexer": "ipython3",
   "version": "3.7.3"
  }
 },
 "nbformat": 4,
 "nbformat_minor": 2
}
