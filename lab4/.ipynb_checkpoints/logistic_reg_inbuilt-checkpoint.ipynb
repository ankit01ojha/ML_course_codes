{
 "cells": [
  {
   "cell_type": "code",
   "execution_count": 3,
   "metadata": {},
   "outputs": [
    {
     "name": "stdout",
     "output_type": "stream",
     "text": [
      "[1. 1.]\n",
      "[[0.02065529 0.97934471]\n",
      " [0.00145789 0.99854211]]\n"
     ]
    },
    {
     "data": {
      "text/plain": [
       "1.0"
      ]
     },
     "execution_count": 3,
     "metadata": {},
     "output_type": "execute_result"
    }
   ],
   "source": [
    "from sklearn.linear_model import LogisticRegression\n",
    "import pandas as pd\n",
    "data = pd.read_csv('training_data.csv')\n",
    "X = data.values[:,:2]\n",
    "y = data.values[:,2]\n",
    "clf = LogisticRegression(random_state=0, solver='lbfgs',multi_class='multinomial').fit(X, y)\n",
    "print(clf.predict(X[:2,:]))\n",
    "print(clf.predict_proba(X[:2,:]))\n",
    "clf.score(X,y)"
   ]
  },
  {
   "cell_type": "code",
   "execution_count": 6,
   "metadata": {},
   "outputs": [
    {
     "name": "stdout",
     "output_type": "stream",
     "text": [
      "Accuracy Score using sklearn 1.0\n"
     ]
    }
   ],
   "source": [
    "from sklearn.metrics import accuracy_score, classification_report, confusion_matrix\n",
    "y_pred_2 = clf.predict(X)\n",
    "print(\"Accuracy Score using sklearn\", accuracy_score(y,y_pred_2))\n",
    "# print(\"Accuracy Score using user defined function\", accuracy_score(y,y_pred))"
   ]
  },
  {
   "cell_type": "code",
   "execution_count": 7,
   "metadata": {},
   "outputs": [
    {
     "name": "stdout",
     "output_type": "stream",
     "text": [
      "Confusion Matrix [[50  0]\n",
      " [ 0 49]]\n",
      "Accuracy Score 1.0\n",
      "Classification report               precision    recall  f1-score   support\n",
      "\n",
      "         0.0       1.00      1.00      1.00        50\n",
      "         1.0       1.00      1.00      1.00        49\n",
      "\n",
      "   micro avg       1.00      1.00      1.00        99\n",
      "   macro avg       1.00      1.00      1.00        99\n",
      "weighted avg       1.00      1.00      1.00        99\n",
      "\n"
     ]
    }
   ],
   "source": [
    "from sklearn.metrics import accuracy_score, classification_report, confusion_matrix\n",
    "y_pred_2 = clf.predict(X)\n",
    "print(\"Confusion Matrix\", confusion_matrix(y,y_pred_2))\n",
    "print(\"Accuracy Score\", accuracy_score(y,y_pred_2))\n",
    "target_names = [\"class0\", \"class1\"]\n",
    "print(\"Classification report\", classification_report(y,y_pred_2))"
   ]
  },
  {
   "cell_type": "code",
   "execution_count": null,
   "metadata": {},
   "outputs": [],
   "source": []
  }
 ],
 "metadata": {
  "kernelspec": {
   "display_name": "Python 3",
   "language": "python",
   "name": "python3"
  },
  "language_info": {
   "codemirror_mode": {
    "name": "ipython",
    "version": 3
   },
   "file_extension": ".py",
   "mimetype": "text/x-python",
   "name": "python",
   "nbconvert_exporter": "python",
   "pygments_lexer": "ipython3",
   "version": "3.7.3"
  }
 },
 "nbformat": 4,
 "nbformat_minor": 2
}
