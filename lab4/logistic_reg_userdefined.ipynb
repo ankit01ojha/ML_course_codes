{
 "cells": [
  {
   "cell_type": "code",
   "execution_count": 1,
   "metadata": {},
   "outputs": [
    {
     "name": "stdout",
     "output_type": "stream",
     "text": [
      "(99, 2)\n",
      "Estimated regression coefficients: [ 9.67108338e-17  2.37613956e-01 -2.62009889e-01]\n",
      "No. of iterations: 10000\n",
      "No of correct predictions 99\n"
     ]
    },
    {
     "data": {
      "text/plain": [
       "<Figure size 640x480 with 1 Axes>"
      ]
     },
     "metadata": {},
     "output_type": "display_data"
    }
   ],
   "source": [
    "import numpy as np\n",
    "import pandas as pd\n",
    "import matplotlib.pyplot as plt\n",
    "from sklearn.preprocessing import MinMaxScaler\n",
    "from numpy import vstack\n",
    "data = pd.read_csv('training_data.csv')\n",
    "\n",
    "def hypothesis(theta, x):\n",
    "    if(sigmoid(np.dot(theta,x))<0.5):\n",
    "        return 0\n",
    "    else:\n",
    "        return 1\n",
    "\n",
    "def sigmoid(z):\n",
    "    temp = 1 + (np.exp(-z))\n",
    "    return 1/temp\n",
    "        \n",
    "def norm(x):\n",
    "    min_max_scaler=MinMaxScaler()\n",
    "    X_scaled=min_max_scaler.fit_transform(x)\n",
    "    return X_scaled\n",
    "\n",
    "def gradient(x,theta,y):\n",
    "    h = []\n",
    "    for i in x:\n",
    "        h.append(hypothesis(theta,i))\n",
    "    h = np.array(h)\n",
    "    error = np.dot(x.T, (h-y))/y.shape[0]\n",
    "    return np.array(error)\n",
    "def gradient_descent(X,y,theta):\n",
    "    alpha = 0.1\n",
    "    num_iter = 10000\n",
    "    for i in range(num_iter):\n",
    "        e = gradient(X,theta,y)\n",
    "        theta = theta - alpha * e\n",
    "    return theta, num_iter\n",
    "def predict(theta, X):\n",
    "    h = []\n",
    "    for i in X:\n",
    "        h.append(hypothesis(theta,i))\n",
    "    h = np.array(h)\n",
    "    return h\n",
    "def logistic_reg():\n",
    "    X = data.values[:,:2]\n",
    "    y = data.values[:,2]\n",
    "    X = norm(X)\n",
    "    print(X.shape)\n",
    "    temp = np.ones(len(X)).reshape(len(X),1)\n",
    "    X = vstack((temp.T,X.T)).T\n",
    "    theta = np.ones(X.shape[1])\n",
    "    theta, num_iter = gradient_descent(X,y,theta)\n",
    "    print(\"Estimated regression coefficients:\", theta) \n",
    "    print(\"No. of iterations:\", num_iter)\n",
    "    y_pred = predict(theta,X)\n",
    "    print(\"No of correct predictions\", np.sum(y==y_pred))\n",
    "    return theta,y_pred\n",
    "\n",
    "\n",
    "theta, y_pred = logistic_reg()\n",
    "x = np.linspace(0,10,45)\n",
    "x2 = []\n",
    "for i in x:\n",
    "    x2.append(-1*(theta[0]+theta[1]*i)/theta[2])\n",
    "plt.plot(x,x2)\n",
    "arr = data.values\n",
    "for i in arr:\n",
    "    if(i[2]==1):\n",
    "        plt.scatter(i[0],i[1], marker='o',c='red')\n",
    "    else:\n",
    "        plt.scatter(i[0],i[1],marker='x',c='green')\n",
    "plt.show()"
   ]
  },
  {
   "cell_type": "code",
   "execution_count": 6,
   "metadata": {},
   "outputs": [
    {
     "name": "stdout",
     "output_type": "stream",
     "text": [
      "Accuracy Score using user defined function 1.0\n"
     ]
    }
   ],
   "source": [
    "from sklearn.metrics import accuracy_score, classification_report, confusion_matrix\n",
    "y = data.values[:,2]\n",
    "print(\"Accuracy Score using user defined function\", accuracy_score(y,y_pred))"
   ]
  },
  {
   "cell_type": "code",
   "execution_count": 2,
   "metadata": {},
   "outputs": [
    {
     "name": "stdout",
     "output_type": "stream",
     "text": [
      "    4.5192  2.6487  1.0\n",
      "0   2.4443  1.5438  1.0\n",
      "1   4.2409  1.8990  1.0\n",
      "2   5.8097  2.4711  1.0\n",
      "3   6.4423  3.3590  1.0\n",
      "4   5.8097  3.2406  1.0\n",
      "5   6.3917  3.8128  1.0\n",
      "6   6.8725  4.4441  1.0\n",
      "7   6.7966  3.6747  1.0\n",
      "8   8.1630  4.7401  1.0\n",
      "9   7.4038  3.8917  1.0\n",
      "10  7.6316  4.6020  1.0\n",
      "11  7.7581  5.7265  1.0\n",
      "12  6.5688  4.9571  1.0\n",
      "13  5.3543  3.9903  1.0\n",
      "14  4.4686  3.0236  1.0\n",
      "15  2.9757  2.0568  1.0\n",
      "16  2.4443  1.2676  1.0\n",
      "17  0.9008  1.1690  1.0\n",
      "18  2.1154  1.7411  1.0\n",
      "19  3.2794  1.3860  1.0\n",
      "20  4.1650  1.5636  1.0\n",
      "21  4.8482  1.8793  1.0\n",
      "22  3.3300  2.7868  1.0\n",
      "23  5.1518  3.5563  1.0\n",
      "24  6.2652  4.0693  1.0\n",
      "25  6.2652  4.3849  1.0\n",
      "26  7.2014  1.5438  1.0\n",
      "27  7.6569  2.4120  1.0\n",
      "28  6.1387  1.7806  1.0\n",
      "29  4.4939  1.4057  1.0\n",
      "..     ...     ...  ...\n",
      "69  7.7581  7.7784  0.0\n",
      "70  5.1012  7.6009  0.0\n",
      "71  4.2156  6.4960  0.0\n",
      "72  3.4818  5.8055  0.0\n",
      "73  2.3684  5.0163  0.0\n",
      "74  1.7864  4.1876  0.0\n",
      "75  0.9008  3.4379  0.0\n",
      "76  0.9008  5.7857  0.0\n",
      "77  1.9636  6.3382  0.0\n",
      "78  1.4069  4.9571  0.0\n",
      "79  2.4190  6.8511  0.0\n",
      "80  2.8745  6.0817  0.0\n",
      "81  4.0132  7.1668  0.0\n",
      "82  4.6711  7.2260  0.0\n",
      "83  5.1771  8.1533  0.0\n",
      "84  6.2146  7.4825  0.0\n",
      "85  5.4555  7.0484  0.0\n",
      "86  5.9868  8.5084  0.0\n",
      "87  4.0891  7.5417  0.0\n",
      "88  2.3937  7.2063  0.0\n",
      "89  1.3310  6.5355  0.0\n",
      "90  1.7358  5.4503  0.0\n",
      "91  2.4443  5.8449  0.0\n",
      "92  3.1781  4.8979  0.0\n",
      "93  4.6711  5.8055  0.0\n",
      "94  5.9868  7.3641  0.0\n",
      "95  4.6711  6.2592  0.0\n",
      "96  7.5810  8.3703  0.0\n",
      "97  4.6457  8.5676  0.0\n",
      "98  4.6457  8.1676  0.0\n",
      "\n",
      "[99 rows x 3 columns]\n"
     ]
    }
   ],
   "source": [
    "print(data)"
   ]
  },
  {
   "cell_type": "code",
   "execution_count": null,
   "metadata": {},
   "outputs": [],
   "source": []
  }
 ],
 "metadata": {
  "kernelspec": {
   "display_name": "Python 3",
   "language": "python",
   "name": "python3"
  },
  "language_info": {
   "codemirror_mode": {
    "name": "ipython",
    "version": 3
   },
   "file_extension": ".py",
   "mimetype": "text/x-python",
   "name": "python",
   "nbconvert_exporter": "python",
   "pygments_lexer": "ipython3",
   "version": "3.7.3"
  }
 },
 "nbformat": 4,
 "nbformat_minor": 2
}
