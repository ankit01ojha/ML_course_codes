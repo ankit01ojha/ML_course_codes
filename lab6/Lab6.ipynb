{
 "cells": [
  {
   "cell_type": "code",
   "execution_count": 33,
   "metadata": {},
   "outputs": [],
   "source": [
    "import numpy as np\n",
    "import matplotlib.pyplot as plt\n",
    "#Question 1\n",
    "X = np.random.rand(100,2)\n"
   ]
  },
  {
   "cell_type": "code",
   "execution_count": 34,
   "metadata": {},
   "outputs": [
    {
     "data": {
      "image/png": "[encoded data removed]",
      "text/plain": [
       "<Figure size 432x288 with 1 Axes>"
      ]
     },
     "metadata": {
      "needs_background": "light"
     },
     "output_type": "display_data"
    }
   ],
   "source": [
    "#Question 2\n",
    "plt.scatter(X[:,0],X[:,1])\n",
    "plt.show()"
   ]
  },
  {
   "cell_type": "code",
   "execution_count": 35,
   "metadata": {},
   "outputs": [
    {
     "data": {
      "text/plain": [
       "KMeans(algorithm='auto', copy_x=True, init='k-means++', max_iter=300,\n",
       "    n_clusters=2, n_init=10, n_jobs=None, precompute_distances='auto',\n",
       "    random_state=None, tol=0.0001, verbose=0)"
      ]
     },
     "execution_count": 35,
     "metadata": {},
     "output_type": "execute_result"
    }
   ],
   "source": [
    "#Question 3\n",
    "from sklearn.cluster import KMeans\n",
    "kmeans = KMeans(n_clusters=2)\n",
    "kmeans.fit(X)"
   ]
  },
  {
   "cell_type": "code",
   "execution_count": 36,
   "metadata": {},
   "outputs": [
    {
     "name": "stdout",
     "output_type": "stream",
     "text": [
      "[[0.4653938  0.78469743]\n",
      " [0.50424386 0.22277647]]\n"
     ]
    }
   ],
   "source": [
    "#Question 4\n",
    "print(kmeans.cluster_centers_)"
   ]
  },
  {
   "cell_type": "code",
   "execution_count": 26,
   "metadata": {},
   "outputs": [
    {
     "name": "stdout",
     "output_type": "stream",
     "text": [
      "First cluster average 0.2747499799004215\n",
      "Second cluster average 0.28199672876374265\n"
     ]
    }
   ],
   "source": [
    "#Question 5\n",
    "from sklearn.metrics.pairwise import euclidean_distances as ed\n",
    "distances = ed(X,kmeans.cluster_centers_)\n",
    "avg_c1 = 0\n",
    "avg_c2 = 0\n",
    "c1 = 0\n",
    "c2 = 0\n",
    "for i in distances:\n",
    "    if(i[0] > i[1]):\n",
    "        avg_c2 = avg_c2 + i[1]\n",
    "        c2 = c2 + 1\n",
    "    else:\n",
    "        avg_c1 = avg_c1 + i[0]\n",
    "        c1 = c1 + 1\n",
    "print(\"First cluster average\", avg_c1/c1)\n",
    "print(\"Second cluster average\", avg_c2/c2)\n"
   ]
  },
  {
   "cell_type": "code",
   "execution_count": 27,
   "metadata": {},
   "outputs": [
    {
     "data": {
      "image/png": "[encoded data removed]",
      "text/plain": [
       "<Figure size 432x288 with 1 Axes>"
      ]
     },
     "metadata": {
      "needs_background": "light"
     },
     "output_type": "display_data"
    }
   ],
   "source": [
    "plt.scatter(X[:,0],X[:,1],c='b',s=50)\n",
    "plt.scatter(kmeans.cluster_centers_[0,0],kmeans.cluster_centers_[0,1],s=200,c='r',marker='s')\n",
    "plt.scatter(kmeans.cluster_centers_[1,0],kmeans.cluster_centers_[1,1],s=200,c='g',marker='s')\n",
    "plt.show()"
   ]
  },
  {
   "cell_type": "code",
   "execution_count": 28,
   "metadata": {},
   "outputs": [
    {
     "name": "stdout",
     "output_type": "stream",
     "text": [
      "[1 1 1 1 0 1 1 0 1 1 1 0 1 1 0 1 1 1 1 0 1 1 0 0 0 1 0 0 1 1 1 1 0 0 0 1 1\n",
      " 1 0 1 0 0 0 1 1 1 0 1 0 1 0 1 1 1 0 1 0 0 0 1 0 0 0 0 0 0 0 1 0 1 1 0 0 1\n",
      " 0 0 1 0 1 0 1 1 0 1 1 0 1 0 1 1 0 1 0 1 1 1 0 0 1 0]\n"
     ]
    }
   ],
   "source": [
    "print(kmeans.labels_)"
   ]
  },
  {
   "cell_type": "code",
   "execution_count": 29,
   "metadata": {},
   "outputs": [
    {
     "name": "stdout",
     "output_type": "stream",
     "text": [
      "[1]\n"
     ]
    }
   ],
   "source": [
    "sample_test = np.array([-3.0,3.0]).reshape(1,-1)\n",
    "print(kmeans.predict(sample_test))"
   ]
  },
  {
   "cell_type": "code",
   "execution_count": 30,
   "metadata": {},
   "outputs": [
    {
     "data": {
      "image/png": "[encoded data removed]",
      "text/plain": [
       "<Figure size 432x288 with 1 Axes>"
      ]
     },
     "metadata": {
      "needs_background": "light"
     },
     "output_type": "display_data"
    }
   ],
   "source": [
    "from sklearn.cluster import KMeans\n",
    "from sklearn.metrics.pairwise import euclidean_distances as ed\n",
    "\n",
    "def cost(distance, k, labels):\n",
    "    avg = [0] * k\n",
    "    c = [0] * k\n",
    "    for i in range(len(labels)):\n",
    "        avg[labels[i]] = avg[labels[i]] + distance[i,labels[i]]\n",
    "        c[labels[i]] = c[labels[i]] + 1\n",
    "    s = 0\n",
    "    for i in range(len(avg)):\n",
    "        s = s + avg[i]/c[i]\n",
    "    return s/k\n",
    "k_vals = np.arange(1,20,1)\n",
    "cost_val = []\n",
    "for k in k_vals:\n",
    "    kmeans = KMeans(n_clusters=k)\n",
    "    kmeans.fit(X)\n",
    "    distances = ed(X,kmeans.cluster_centers_)\n",
    "    cost_val.append(cost(distances, k, kmeans.labels_))\n",
    "plt.plot(k_vals, cost_val)\n",
    "plt.scatter(k_vals, cost_val)\n",
    "plt.show()\n",
    "#Optimum value of k is 5"
   ]
  },
  {
   "cell_type": "code",
   "execution_count": 31,
   "metadata": {},
   "outputs": [
    {
     "name": "stdout",
     "output_type": "stream",
     "text": [
      "[array([0.99974356, 0.54496095]), array([0.51390488, 0.27826576])]\n",
      "[array([0.59774711, 0.76161982]), array([0.30547999, 0.32815328])]\n"
     ]
    }
   ],
   "source": [
    "#Question 10\n",
    "\n",
    "def cost(distances):\n",
    "    avg_c1 = 0\n",
    "    avg_c2 = 0\n",
    "    c1 = 0\n",
    "    c2 = 0\n",
    "    for i in distances:\n",
    "        if(i[0] > i[1]):\n",
    "            avg_c2 = avg_c2 + i[1]\n",
    "            c2 = c2 + 1\n",
    "        else:\n",
    "            avg_c1 = avg_c1 + i[0]\n",
    "            c1 = c1 + 1\n",
    "    return avg_c2 + avg_c1\n",
    "mediods_index = np.random.choice(100,2,replace=False)\n",
    "mediods = [X[mediods_index[0]], X[mediods_index[1]]]\n",
    "labels = []\n",
    "distance = ed(X, mediods)\n",
    "for i in distance:\n",
    "    if(i[0] > i[1]):\n",
    "        labels.append(1)\n",
    "    else:\n",
    "        labels.append(0)\n",
    "prev_cost = cost(distance)\n",
    "print(mediods)\n",
    "\n",
    "def isPresent(j, mediods):\n",
    "    for i in mediods:\n",
    "        if(i[0] == j[0] and i[1] == j[1]):\n",
    "            return True\n",
    "    return False\n",
    "\n",
    "for i in range(len(mediods)):\n",
    "    minVal = mediods[i]\n",
    "\n",
    "    for j in X:\n",
    "        if(isPresent(j,mediods)==False):\n",
    "            temp_mediods = (j, mediods[1-i])\n",
    "        \n",
    "            distance  = ed(X,temp_mediods)\n",
    "            curr_cost = cost(distance)\n",
    "            if(curr_cost < prev_cost):\n",
    "                minVal = j\n",
    "                prev_cost = curr_cost\n",
    "            \n",
    "    mediods[i] = minVal\n",
    "print(mediods)"
   ]
  },
  {
   "cell_type": "code",
   "execution_count": 37,
   "metadata": {},
   "outputs": [
    {
     "name": "stdout",
     "output_type": "stream",
     "text": [
      "Centroid from k mediod [array([0.59774711, 0.76161982]), array([0.30547999, 0.32815328])]\n",
      "Centroid from k means [[0.4653938  0.78469743]\n",
      " [0.50424386 0.22277647]]\n"
     ]
    }
   ],
   "source": [
    "print(\"Centroid from k mediod\", mediods)\n",
    "print(\"Centroid from k means\", kmeans.cluster_centers_)"
   ]
  },
  {
   "cell_type": "code",
   "execution_count": null,
   "metadata": {},
   "outputs": [],
   "source": []
  },
  {
   "cell_type": "code",
   "execution_count": null,
   "metadata": {},
   "outputs": [],
   "source": []
  },
  {
   "cell_type": "code",
   "execution_count": null,
   "metadata": {},
   "outputs": [],
   "source": []
  },
  {
   "cell_type": "code",
   "execution_count": null,
   "metadata": {},
   "outputs": [],
   "source": []
  }
 ],
 "metadata": {
  "kernelspec": {
   "display_name": "Python 3",
   "language": "python",
   "name": "python3"
  },
  "language_info": {
   "codemirror_mode": {
    "name": "ipython",
    "version": 3
   },
   "file_extension": ".py",
   "mimetype": "text/x-python",
   "name": "python",
   "nbconvert_exporter": "python",
   "pygments_lexer": "ipython3",
   "version": "3.7.3"
  }
 },
 "nbformat": 4,
 "nbformat_minor": 2
}
