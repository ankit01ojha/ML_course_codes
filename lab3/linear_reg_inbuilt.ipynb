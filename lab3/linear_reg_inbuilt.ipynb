{
 "cells": [
  {
   "cell_type": "code",
   "execution_count": 3,
   "metadata": {},
   "outputs": [
    {
     "name": "stdout",
     "output_type": "stream",
     "text": [
      "[[-0.0737423 ]\n",
      " [ 0.10596202]\n",
      " [-0.02239821]\n",
      " [ 0.4910427 ]\n",
      " [ 0.67074702]]\n",
      "Mean squared error 0.0047587716463917094\n",
      "ds (5, 1)\n",
      "dsds (5, 1)\n"
     ]
    },
    {
     "data": {
      "image/png": "[encoded data removed]",
      "text/plain": [
       "<Figure size 432x288 with 1 Axes>"
      ]
     },
     "metadata": {
      "needs_background": "light"
     },
     "output_type": "display_data"
    }
   ],
   "source": [
    "import numpy as np\n",
    "import pandas as pd\n",
    "import matplotlib.pyplot as plt\n",
    "from sklearn.linear_model import LinearRegression\n",
    "from sklearn.preprocessing import MinMaxScaler\n",
    "from sklearn.model_selection import train_test_split\n",
    "\n",
    "def norm(x):\n",
    "    min_max_scaler=MinMaxScaler()\n",
    "    X_scaled=min_max_scaler.fit_transform(x)\n",
    "    return X_scaled\n",
    "\n",
    "data = pd.read_csv('student_scores.csv')\n",
    "data_arr = data.values\n",
    "X = data_arr[:,0]\n",
    "y = data_arr[:,1]\n",
    "X = norm(X.reshape(-1,1))\n",
    "y = norm(y.reshape(-1,1))\n",
    "X_train,X_test, y_train, y_test = train_test_split(X,y, test_size=0.2)\n",
    "reg = LinearRegression()\n",
    "reg.fit(X_train.reshape(-1,1), y_train.reshape(-1,1))\n",
    "y_pred = reg.predict(X_test.reshape(-1,1))\n",
    "print(y_pred)\n",
    "mse = (1/(len(X_test))) * np.square(y_pred-y_test.reshape(-1,1)).sum()\n",
    "print(\"Mean squared error\",mse)\n",
    "x_val = X_test\n",
    "print(\"ds\",x_val.shape)\n",
    "print(\"dsds\",y_test.shape)\n",
    "plt.scatter(x_val,y_test, c='red')\n",
    "plt.plot(x_val, y_pred,c='blue')\n",
    "plt.show()"
   ]
  },
  {
   "cell_type": "code",
   "execution_count": null,
   "metadata": {},
   "outputs": [],
   "source": []
  }
 ],
 "metadata": {
  "kernelspec": {
   "display_name": "Python 3",
   "language": "python",
   "name": "python3"
  },
  "language_info": {
   "codemirror_mode": {
    "name": "ipython",
    "version": 3
   },
   "file_extension": ".py",
   "mimetype": "text/x-python",
   "name": "python",
   "nbconvert_exporter": "python",
   "pygments_lexer": "ipython3",
   "version": "3.7.3"
  }
 },
 "nbformat": 4,
 "nbformat_minor": 2
}
