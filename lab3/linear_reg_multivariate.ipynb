{
 "cells": [
  {
   "cell_type": "code",
   "execution_count": 7,
   "metadata": {},
   "outputs": [
    {
     "name": "stdout",
     "output_type": "stream",
     "text": [
      "Mean squared error 0.48578609286082064\n"
     ]
    }
   ],
   "source": [
    "import pandas as pd\n",
    "import numpy as np\n",
    "import matplotlib.pyplot as plt\n",
    "from sklearn.preprocessing import MinMaxScaler\n",
    "from sklearn.model_selection import train_test_split\n",
    "\n",
    "def norm(x):\n",
    "    min_max_scaler=MinMaxScaler()\n",
    "    X_scaled=min_max_scaler.fit_transform(x)\n",
    "    return X_scaled\n",
    "\n",
    "def gradient_descent(alpha, x,y,norma,max_iter=1500):\n",
    "    if(norma==True):\n",
    "        x = norm(x.reshape(-1,1))\n",
    "        y = norm(y.reshape(-1,1))\n",
    "    theta = np.random.rand(x.shape[1]+1,1)\n",
    "    temp = np.ones(len(x))\n",
    "    y = np.array(y)\n",
    "    x = np.vstack((temp.T,x.T)).T\n",
    "    y = y.reshape(len(y),1)\n",
    "    for i in range(max_iter):\n",
    "        costval = cost(x,theta,y)\n",
    "        theta[0]= theta[0]-alpha*costval[0]\n",
    "        theta[1] = theta[1]-alpha*costval[1]\n",
    "    return theta\n",
    "\n",
    "def cost(x,theta,y):\n",
    "    temp1 = (np.dot(x,theta)-y).reshape(1,len(x[:,0]))\n",
    "    cost = []\n",
    "    for p in range(len(theta)):\n",
    "        tempx = x[:,p]\n",
    "        temp2 = np.dot(temp1,tempx)\n",
    "        tempsum = temp2.sum()\n",
    "        cost.append(tempsum/(2*len(y)))\n",
    "    return np.array(cost)\n",
    "\n",
    "np.set_printoptions(suppress=True)\n",
    "data = pd.read_csv('petrol_consumption.csv')\n",
    "X = data.values[:,:4]\n",
    "y = data.values[:,4]\n",
    "X = norm(X)\n",
    "y = norm(y.reshape(-1,1))\n",
    "X_train, X_test,y_train, y_test = train_test_split(X,y, test_size=0.2, random_state=0)\n",
    "theta = gradient_descent(0.001, X_train, y_train,False)\n",
    "temp = np.ones(len(X_test))\n",
    "X_test = np.vstack((temp.T, X_test.T))\n",
    "y_pred = np.dot(X_test.T, theta)\n",
    "mse = (1/(len(X_test))) * np.square(y_pred-y_test).sum()\n",
    "print(\"Mean squared error\",mse)\n"
   ]
  },
  {
   "cell_type": "code",
   "execution_count": 9,
   "metadata": {},
   "outputs": [
    {
     "data": {
      "image/png": "[encoded data removed]",
      "text/plain": [
       "<Figure size 432x288 with 1 Axes>"
      ]
     },
     "metadata": {
      "needs_background": "light"
     },
     "output_type": "display_data"
    }
   ],
   "source": [
    "import warnings\n",
    "warnings.filterwarnings(\"ignore\")\n",
    "t0 = 0.5\n",
    "t1_values = np.random.rand(200,1)\n",
    "np.sort(t1_values)\n",
    "data = pd.read_csv('petrol_consumption.csv')\n",
    "x = data['Petrol_tax'].values\n",
    "y = data['Petrol_Consumption'].values\n",
    "def cost(x,theta,y, norma=False):\n",
    "    temp = np.ones(len(x))\n",
    "    y = np.array(y)\n",
    "    if norma:\n",
    "        x = norm(x.reshape(-1,1))\n",
    "        y = norm(y.reshape(-1,1))\n",
    "    x = np.vstack((temp.reshape(1,len(temp)),x.T)).T\n",
    "    theta = np.array(theta).reshape(-1,1)\n",
    "    temp1 = np.square(np.dot(x,theta)-y).reshape(1,len(y))\n",
    "    tempx = x[:,1]\n",
    "    temp2 = np.dot(temp1,tempx)\n",
    "    cost = temp2/(len(2*y))\n",
    "    return cost\n",
    "j=[]\n",
    "for t1 in t1_values:\n",
    "    j.append(cost(x,[t0,t1],y,True))\n",
    "plt.scatter(t1_values,j)\n",
    "plt.xlabel(\"t1 values\")\n",
    "plt.ylabel(\"j(t1)\")\n",
    "plt.show()"
   ]
  },
  {
   "cell_type": "code",
   "execution_count": null,
   "metadata": {},
   "outputs": [],
   "source": []
  }
 ],
 "metadata": {
  "kernelspec": {
   "display_name": "Python 3",
   "language": "python",
   "name": "python3"
  },
  "language_info": {
   "codemirror_mode": {
    "name": "ipython",
    "version": 3
   },
   "file_extension": ".py",
   "mimetype": "text/x-python",
   "name": "python",
   "nbconvert_exporter": "python",
   "pygments_lexer": "ipython3",
   "version": "3.7.3"
  }
 },
 "nbformat": 4,
 "nbformat_minor": 2
}
