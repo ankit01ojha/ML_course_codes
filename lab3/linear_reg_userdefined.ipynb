{
 "cells": [
  {
   "cell_type": "code",
   "execution_count": 2,
   "metadata": {},
   "outputs": [
    {
     "name": "stdout",
     "output_type": "stream",
     "text": [
      "Learning rate =  0.0001\n",
      "Theta =  [[0.86849391]\n",
      " [0.71761844]]\n",
      "Learning rate =  0.0002\n",
      "Theta =  [[0.48461575]\n",
      " [0.55259503]]\n",
      "Learning rate =  0.0004\n",
      "Theta =  [[0.32657131]\n",
      " [0.87823669]]\n",
      "Learning rate =  0.0005\n",
      "Theta =  [[0.52807283]\n",
      " [0.29254113]]\n"
     ]
    }
   ],
   "source": [
    "import pandas as pd\n",
    "import numpy as np\n",
    "import matplotlib.pyplot as plt\n",
    "from sklearn.preprocessing import MinMaxScaler\n",
    "from sklearn.model_selection import train_test_split\n",
    "data = pd.read_csv('student_scores.csv')\n",
    "data_arr = data.values\n",
    "X = data_arr[:,0]\n",
    "y = data_arr[:,1]\n",
    "X_train,X_test, y_train, y_test = train_test_split(X,y, test_size=0.2)\n",
    "\n",
    "def norm(x):\n",
    "    min_max_scaler=MinMaxScaler()\n",
    "    X_scaled=min_max_scaler.fit_transform(x)\n",
    "    return X_scaled\n",
    "\n",
    "def cost(x,theta,y):\n",
    "    temp1 = (np.dot(x,theta)-y).reshape(1,len(x[:,0]))\n",
    "    cost = []\n",
    "    for p in range(len(theta)):\n",
    "        tempx = x[:,p]\n",
    "        temp2 = np.dot(temp1,tempx)\n",
    "        tempsum = temp2.sum()\n",
    "        cost.append(tempsum/(2*len(y)))\n",
    "    return np.array(cost)\n",
    "def gradient_descent(alpha, x,y,norma,max_iter=1500):\n",
    "    if(norma==True):\n",
    "        x = norm(x.reshape(-1,1))\n",
    "        y = norm(y.reshape(-1,1))\n",
    "    theta = np.random.rand(x.shape[1]+1,1)\n",
    "    temp = np.ones(len(x))\n",
    "    y = np.array(y)\n",
    "    x = np.vstack((temp.T,x.T)).T\n",
    "    y = y.reshape(len(y),1)\n",
    "    for i in range(max_iter):\n",
    "        costval = cost(x,theta,y)\n",
    "        theta[0]= theta[0]-alpha*costval[0]\n",
    "        theta[1] = theta[1]-alpha*costval[1]\n",
    "    return theta\n",
    "\n",
    "learning_rate = [0.0001,0.0002, 0.0004,0.0005]\n",
    "for i in learning_rate:\n",
    "    print(\"Learning rate = \", i)\n",
    "    print(\"Theta = \", gradient_descent(i, X,y,True))"
   ]
  },
  {
   "cell_type": "code",
   "execution_count": 5,
   "metadata": {},
   "outputs": [
    {
     "name": "stdout",
     "output_type": "stream",
     "text": [
      "5\n",
      "[[1.         1.         1.         1.         1.        ]\n",
      " [0.38095238 1.         0.         0.66666667 0.76190476]]\n",
      "Mean squared error 0.1142495761570514\n",
      "ds (5, 1)\n",
      "dsds (5, 1)\n"
     ]
    },
    {
     "data": {
      "image/png": "[encoded data removed]",
      "text/plain": [
       "<Figure size 432x288 with 1 Axes>"
      ]
     },
     "metadata": {
      "needs_background": "light"
     },
     "output_type": "display_data"
    }
   ],
   "source": [
    "#prediction\n",
    "data = pd.read_csv('student_scores.csv')\n",
    "data_arr = data.values\n",
    "X = data_arr[:,0]\n",
    "y = data_arr[:,1]\n",
    "X_train,X_test, y_train, y_test = train_test_split(X,y, test_size=0.2)\n",
    "\n",
    "theta = gradient_descent(0.1, X_train,y_train, True,100)\n",
    "X_test = norm(X_test.reshape(-1,1))\n",
    "y_test = norm(y_test.reshape(-1,1))\n",
    "temp = np.ones(len(X_test))\n",
    "print(len(X_test))\n",
    "X_test = np.vstack((temp.T, X_test.T))\n",
    "print(X_test)\n",
    "y_pred = np.dot(X_test.T, theta)\n",
    "mse = (1/(len(X_test))) * np.square(y_pred-y_test).sum()\n",
    "print(\"Mean squared error\",mse)\n",
    "x_val = X_test[1,:].reshape(-1,1)\n",
    "print(\"ds\",x_val.shape)\n",
    "print(\"dsds\",y_test.shape)\n",
    "plt.scatter(x_val,y_test, c='red')\n",
    "plt.plot(x_val, y_pred,c='blue')\n",
    "plt.show()\n",
    "theta_val = theta"
   ]
  },
  {
   "cell_type": "code",
   "execution_count": null,
   "metadata": {},
   "outputs": [],
   "source": []
  }
 ],
 "metadata": {
  "kernelspec": {
   "display_name": "Python 3",
   "language": "python",
   "name": "python3"
  },
  "language_info": {
   "codemirror_mode": {
    "name": "ipython",
    "version": 3
   },
   "file_extension": ".py",
   "mimetype": "text/x-python",
   "name": "python",
   "nbconvert_exporter": "python",
   "pygments_lexer": "ipython3",
   "version": "3.7.3"
  }
 },
 "nbformat": 4,
 "nbformat_minor": 2
}
