{
 "cells": [
  {
   "cell_type": "code",
   "execution_count": 30,
   "metadata": {},
   "outputs": [
    {
     "name": "stdout",
     "output_type": "stream",
     "text": [
      "SVC(C=1.0, cache_size=200, class_weight=None, coef0=0.0,\n",
      "  decision_function_shape=None, degree=3, gamma='auto', kernel='rbf',\n",
      "  max_iter=-1, probability=False, random_state=None, shrinking=True,\n",
      "  tol=0.001, verbose=False)\n",
      "             precision    recall  f1-score   support\n",
      "\n",
      "          0       1.00      1.00      1.00        50\n",
      "          1       1.00      0.96      0.98        50\n",
      "          2       0.96      1.00      0.98        50\n",
      "\n",
      "avg / total       0.99      0.99      0.99       150\n",
      "\n",
      "[[50  0  0]\n",
      " [ 0 48  2]\n",
      " [ 0  0 50]]\n"
     ]
    }
   ],
   "source": [
    "#Question 1-svm actual code\n",
    "from sklearn import datasets, metrics\n",
    "from sklearn.svm import SVC\n",
    "\n",
    "data = datasets.load_iris()\n",
    "model = SVC(kernel='rbf')\n",
    "model.fit(data.data, data.target)\n",
    "print(model)\n",
    "\n",
    "expected = data.target\n",
    "predicted = model.predict(data.data)\n",
    "\n",
    "print(metrics.classification_report(expected, predicted))\n",
    "print(metrics.confusion_matrix(expected, predicted))"
   ]
  },
  {
   "cell_type": "code",
   "execution_count": 27,
   "metadata": {},
   "outputs": [
    {
     "name": "stdout",
     "output_type": "stream",
     "text": [
      "SVC(C=1.0, cache_size=200, class_weight=None, coef0=0.0,\n",
      "  decision_function_shape=None, degree=3, gamma='auto', kernel='rbf',\n",
      "  max_iter=-1, probability=False, random_state=None, shrinking=True,\n",
      "  tol=0.001, verbose=False)\n",
      "             precision    recall  f1-score   support\n",
      "\n",
      "        0.0       0.99      1.00      1.00       383\n",
      "        1.0       1.00      0.99      1.00       307\n",
      "\n",
      "avg / total       1.00      1.00      1.00       690\n",
      "\n",
      "[[383   0]\n",
      " [  2 305]]\n"
     ]
    },
    {
     "name": "stderr",
     "output_type": "stream",
     "text": [
      "/opt/anaconda3/lib/python3.6/site-packages/ipykernel_launcher.py:3: ParserWarning: Falling back to the 'python' engine because the 'c' engine does not support regex separators (separators > 1 char and different from '\\s+' are interpreted as regex); you can avoid this warning by specifying engine='python'.\n",
      "  This is separate from the ipykernel package so we can avoid doing imports until\n"
     ]
    }
   ],
   "source": [
    "#Question 1b-for australian dataset\n",
    "import pandas as pd\n",
    "data = pd.read_csv(\"australian.dat\", sep=\"\\s\", names=[\"f1\",\"f2\",\"f3\",\"f4\",\"f5\",\"f6\",\"f7\",\"f8\",\"f9\",\"f10\",\"f11\",\"f12\",\"f13\",\"f14\",\"class\"])\n",
    "model = SVC()\n",
    "data = data.values\n",
    "model.fit(data[:,:14], data[:,14])\n",
    "print(model)\n",
    "\n",
    "expected = data[:,14]\n",
    "predicted = model.predict(data[:,:14])\n",
    "\n",
    "print(metrics.classification_report(expected, predicted))\n",
    "print(metrics.confusion_matrix(expected, predicted))"
   ]
  },
  {
   "cell_type": "code",
   "execution_count": 28,
   "metadata": {},
   "outputs": [
    {
     "name": "stdout",
     "output_type": "stream",
     "text": [
      "SVC(C=1.0, cache_size=200, class_weight=None, coef0=0.0,\n",
      "  decision_function_shape=None, degree=3, gamma='auto', kernel='rbf',\n",
      "  max_iter=-1, probability=False, random_state=None, shrinking=True,\n",
      "  tol=0.001, verbose=False)\n",
      "             precision    recall  f1-score   support\n",
      "\n",
      "          0       1.00      1.00      1.00       212\n",
      "          1       1.00      1.00      1.00       357\n",
      "\n",
      "avg / total       1.00      1.00      1.00       569\n",
      "\n",
      "[[212   0]\n",
      " [  0 357]]\n"
     ]
    }
   ],
   "source": [
    "#question 1c-breast cancer dataset\n",
    "data = datasets.load_breast_cancer()\n",
    "model = SVC()\n",
    "model.fit(data.data, data.target)\n",
    "print(model)\n",
    "\n",
    "expected = data.target\n",
    "predicted = model.predict(data.data)\n",
    "\n",
    "print(metrics.classification_report(expected, predicted))\n",
    "print(metrics.confusion_matrix(expected, predicted))"
   ]
  },
  {
   "cell_type": "code",
   "execution_count": 33,
   "metadata": {},
   "outputs": [
    {
     "data": {
      "image/png": "[encoded data removed]",
      "text/plain": [
       "<matplotlib.figure.Figure at 0x7f6c9f4c47b8>"
      ]
     },
     "metadata": {},
     "output_type": "display_data"
    }
   ],
   "source": [
    "#Question 2-varied 'C' parameter\n",
    "from matplotlib import pyplot as plt\n",
    "from sklearn import datasets, metrics\n",
    "from sklearn.svm import SVC\n",
    "\n",
    "data = datasets.load_iris()\n",
    "C = [1,5,10,15,20,25,30]\n",
    "acc = []\n",
    "for c in C:\n",
    "    svm = SVC(kernel='rbf',C=c)\n",
    "    svm.fit(data.data, data.target)\n",
    "    expected = data.target\n",
    "    predicted = model.predict(data.data)\n",
    "    acc.append(metrics.accuracy_score(expected, predicted))\n",
    "plt.scatter(C, acc)\n",
    "plt.xlabel(\"c value\")\n",
    "plt.ylabel(\"Accuracy\")\n",
    "plt.show()"
   ]
  },
  {
   "cell_type": "code",
   "execution_count": 41,
   "metadata": {},
   "outputs": [
    {
     "name": "stdout",
     "output_type": "stream",
     "text": [
      "Kernel -  rbf  Accuracy -  0.986666666667\n",
      "Kernel -  linear  Accuracy -  0.986666666667\n",
      "Kernel -  poly  Accuracy -  0.986666666667\n",
      "Kernel -  sigmoid  Accuracy -  0.986666666667\n"
     ]
    }
   ],
   "source": [
    "#Question 3-different kernel function\n",
    "from matplotlib import pyplot as plt\n",
    "from sklearn import datasets, metrics\n",
    "from sklearn.svm import SVC\n",
    "\n",
    "data = datasets.load_iris()\n",
    "K = ['rbf','linear','poly','sigmoid']\n",
    "for k in K:\n",
    "    svm = SVC(kernel=k,C=1)\n",
    "    svm.fit(data.data, data.target)\n",
    "    expected = data.target\n",
    "    predicted = model.predict(data.data)\n",
    "    print(\"Kernel - \", k, \" Accuracy - \", metrics.accuracy_score(expected, predicted))\n",
    "\n",
    "    \n",
    "#The accuracy does not change even if kernel function change"
   ]
  },
  {
   "cell_type": "code",
   "execution_count": null,
   "metadata": {
    "collapsed": true
   },
   "outputs": [],
   "source": []
  }
 ],
 "metadata": {
  "kernelspec": {
   "display_name": "Python 3",
   "language": "python",
   "name": "python3"
  },
  "language_info": {
   "codemirror_mode": {
    "name": "ipython",
    "version": 3
   },
   "file_extension": ".py",
   "mimetype": "text/x-python",
   "name": "python",
   "nbconvert_exporter": "python",
   "pygments_lexer": "ipython3",
   "version": "3.7.3"
  }
 },
 "nbformat": 4,
 "nbformat_minor": 2
}
