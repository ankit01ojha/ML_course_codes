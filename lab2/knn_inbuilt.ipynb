{
 "cells": [
  {
   "cell_type": "code",
   "execution_count": 7,
   "metadata": {},
   "outputs": [
    {
     "name": "stdout",
     "output_type": "stream",
     "text": [
      "[[  3.    128.     72.    ...  32.4     0.549  27.   ]\n",
      " [  4.    114.     65.    ...  21.9     0.432  37.   ]\n",
      " [  0.    135.     68.    ...  42.3     0.365  24.   ]\n",
      " ...\n",
      " [ 12.    106.     80.    ...  23.6     0.137  44.   ]\n",
      " [  6.    117.     96.    ...  28.7     0.157  30.   ]\n",
      " [  1.    120.     80.    ...  38.9     1.162  41.   ]]\n",
      "[[86 16]\n",
      " [22 30]]\n",
      "              precision    recall  f1-score   support\n",
      "\n",
      "         0.0       0.80      0.84      0.82       102\n",
      "         1.0       0.65      0.58      0.61        52\n",
      "\n",
      "   micro avg       0.75      0.75      0.75       154\n",
      "   macro avg       0.72      0.71      0.72       154\n",
      "weighted avg       0.75      0.75      0.75       154\n",
      "\n",
      "No of correct predictions =  116.0\n"
     ]
    }
   ],
   "source": [
    "import pandas as pd\n",
    "dataset = pd.read_csv('diabetes.csv')\n",
    "\n",
    "# dataset.head(10)\n",
    "# data = dataset.values\n",
    "# print(len(data))\n",
    "\n",
    "train, test = data[:614], data[614:]\n",
    "# print(len(train),len(test), len(data))\n",
    "\n",
    "from sklearn.model_selection import train_test_split  \n",
    "from sklearn.preprocessing import StandardScaler\n",
    "X=data[:,0:8]\n",
    "Y=data[:,8]\n",
    "X_train, X_test, y_train, y_test = train_test_split(X, Y, test_size=0.20)  \n",
    "            \n",
    "\n",
    "print( X_test)\n",
    "\n",
    "scaler=StandardScaler().fit(X_train)              \n",
    "X_train=scaler.transform(X_train)\n",
    "scaler=StandardScaler().fit(X_test)              \n",
    "X_test=scaler.transform(X_test) \n",
    "\n",
    "from sklearn.neighbors import KNeighborsClassifier  \n",
    "classifier = KNeighborsClassifier(n_neighbors=5)  \n",
    "classifier.fit(X_train, y_train)\n",
    "y_pred = classifier.predict(X_test)\n",
    "\n",
    "from sklearn.metrics import classification_report, confusion_matrix, accuracy_score\n",
    "print(confusion_matrix(y_test, y_pred))\n",
    "\n",
    "print(classification_report(y_test,y_pred))\n",
    "\n",
    "print(\"No of correct predictions = \",accuracy_score(y_test, y_pred)*len(X_test))"
   ]
  },
  {
   "cell_type": "code",
   "execution_count": 6,
   "metadata": {},
   "outputs": [
    {
     "data": {
      "image/png": "[encoded data removed]",
      "text/plain": [
       "<Figure size 432x288 with 1 Axes>"
      ]
     },
     "metadata": {
      "needs_background": "light"
     },
     "output_type": "display_data"
    }
   ],
   "source": [
    "#knn for many values of k\n",
    "import numpy as np\n",
    "import matplotlib.pyplot as plt\n",
    "knn = np.arange(3,17,2)\n",
    "err = []\n",
    "for k in knn:\n",
    "    classifier = KNeighborsClassifier(n_neighbors=k)  \n",
    "    classifier.fit(X_train, y_train)\n",
    "    y_pred = classifier.predict(X_test)\n",
    "    err.append(1-accuracy_score(y_test, y_pred))\n",
    "\n",
    "plt.plot(knn, err)\n",
    "plt.xlabel(\"k value\")\n",
    "plt.ylabel(\"Error\")\n",
    "plt.show()"
   ]
  },
  {
   "cell_type": "code",
   "execution_count": null,
   "metadata": {},
   "outputs": [],
   "source": []
  }
 ],
 "metadata": {
  "kernelspec": {
   "display_name": "Python 3",
   "language": "python",
   "name": "python3"
  },
  "language_info": {
   "codemirror_mode": {
    "name": "ipython",
    "version": 3
   },
   "file_extension": ".py",
   "mimetype": "text/x-python",
   "name": "python",
   "nbconvert_exporter": "python",
   "pygments_lexer": "ipython3",
   "version": "3.7.3"
  }
 },
 "nbformat": 4,
 "nbformat_minor": 2
}
